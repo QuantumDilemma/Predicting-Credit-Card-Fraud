{
 "cells": [
  {
   "cell_type": "markdown",
   "id": "295b2ded",
   "metadata": {},
   "source": [
    "## Import modules"
   ]
  },
  {
   "cell_type": "code",
   "execution_count": 1,
   "id": "35f9469d",
   "metadata": {},
   "outputs": [],
   "source": [
    "import seaborn\n",
    "import pandas as pd\n",
    "import numpy as np\n",
    "import matplotlib.pyplot as plt\n",
    "from sklearn.linear_model import LogisticRegression\n",
    "from sklearn.model_selection import train_test_split\n",
    "from sklearn.preprocessing import StandardScaler"
   ]
  },
  {
   "cell_type": "markdown",
   "id": "6d439a46",
   "metadata": {},
   "source": [
    "## Import data"
   ]
  },
  {
   "cell_type": "code",
   "execution_count": 2,
   "id": "c08aad52",
   "metadata": {},
   "outputs": [],
   "source": [
    "transactions = pd.read_csv(\"credit_dard_data.csv\")"
   ]
  },
  {
   "cell_type": "code",
   "execution_count": 3,
   "id": "e44487ac",
   "metadata": {
    "scrolled": true
   },
   "outputs": [
    {
     "data": {
      "text/html": [
       "<div>\n",
       "<style scoped>\n",
       "    .dataframe tbody tr th:only-of-type {\n",
       "        vertical-align: middle;\n",
       "    }\n",
       "\n",
       "    .dataframe tbody tr th {\n",
       "        vertical-align: top;\n",
       "    }\n",
       "\n",
       "    .dataframe thead th {\n",
       "        text-align: right;\n",
       "    }\n",
       "</style>\n",
       "<table border=\"1\" class=\"dataframe\">\n",
       "  <thead>\n",
       "    <tr style=\"text-align: right;\">\n",
       "      <th></th>\n",
       "      <th>step</th>\n",
       "      <th>type</th>\n",
       "      <th>amount</th>\n",
       "      <th>nameOrig</th>\n",
       "      <th>oldbalanceOrg</th>\n",
       "      <th>newbalanceOrig</th>\n",
       "      <th>nameDest</th>\n",
       "      <th>oldbalanceDest</th>\n",
       "      <th>newbalanceDest</th>\n",
       "      <th>isFraud</th>\n",
       "      <th>isFlaggedFraud</th>\n",
       "    </tr>\n",
       "  </thead>\n",
       "  <tbody>\n",
       "    <tr>\n",
       "      <th>0</th>\n",
       "      <td>1</td>\n",
       "      <td>PAYMENT</td>\n",
       "      <td>9839.64</td>\n",
       "      <td>C1231006815</td>\n",
       "      <td>170136.0</td>\n",
       "      <td>160296.36</td>\n",
       "      <td>M1979787155</td>\n",
       "      <td>0.0</td>\n",
       "      <td>0.0</td>\n",
       "      <td>0</td>\n",
       "      <td>0</td>\n",
       "    </tr>\n",
       "    <tr>\n",
       "      <th>1</th>\n",
       "      <td>1</td>\n",
       "      <td>PAYMENT</td>\n",
       "      <td>1864.28</td>\n",
       "      <td>C1666544295</td>\n",
       "      <td>21249.0</td>\n",
       "      <td>19384.72</td>\n",
       "      <td>M2044282225</td>\n",
       "      <td>0.0</td>\n",
       "      <td>0.0</td>\n",
       "      <td>0</td>\n",
       "      <td>0</td>\n",
       "    </tr>\n",
       "    <tr>\n",
       "      <th>2</th>\n",
       "      <td>1</td>\n",
       "      <td>TRANSFER</td>\n",
       "      <td>181.00</td>\n",
       "      <td>C1305486145</td>\n",
       "      <td>181.0</td>\n",
       "      <td>0.00</td>\n",
       "      <td>C553264065</td>\n",
       "      <td>0.0</td>\n",
       "      <td>0.0</td>\n",
       "      <td>1</td>\n",
       "      <td>0</td>\n",
       "    </tr>\n",
       "    <tr>\n",
       "      <th>3</th>\n",
       "      <td>1</td>\n",
       "      <td>CASH_OUT</td>\n",
       "      <td>181.00</td>\n",
       "      <td>C840083671</td>\n",
       "      <td>181.0</td>\n",
       "      <td>0.00</td>\n",
       "      <td>C38997010</td>\n",
       "      <td>21182.0</td>\n",
       "      <td>0.0</td>\n",
       "      <td>1</td>\n",
       "      <td>0</td>\n",
       "    </tr>\n",
       "    <tr>\n",
       "      <th>4</th>\n",
       "      <td>1</td>\n",
       "      <td>PAYMENT</td>\n",
       "      <td>11668.14</td>\n",
       "      <td>C2048537720</td>\n",
       "      <td>41554.0</td>\n",
       "      <td>29885.86</td>\n",
       "      <td>M1230701703</td>\n",
       "      <td>0.0</td>\n",
       "      <td>0.0</td>\n",
       "      <td>0</td>\n",
       "      <td>0</td>\n",
       "    </tr>\n",
       "  </tbody>\n",
       "</table>\n",
       "</div>"
      ],
      "text/plain": [
       "   step      type    amount     nameOrig  oldbalanceOrg  newbalanceOrig  \\\n",
       "0     1   PAYMENT   9839.64  C1231006815       170136.0       160296.36   \n",
       "1     1   PAYMENT   1864.28  C1666544295        21249.0        19384.72   \n",
       "2     1  TRANSFER    181.00  C1305486145          181.0            0.00   \n",
       "3     1  CASH_OUT    181.00   C840083671          181.0            0.00   \n",
       "4     1   PAYMENT  11668.14  C2048537720        41554.0        29885.86   \n",
       "\n",
       "      nameDest  oldbalanceDest  newbalanceDest  isFraud  isFlaggedFraud  \n",
       "0  M1979787155             0.0             0.0        0               0  \n",
       "1  M2044282225             0.0             0.0        0               0  \n",
       "2   C553264065             0.0             0.0        1               0  \n",
       "3    C38997010         21182.0             0.0        1               0  \n",
       "4  M1230701703             0.0             0.0        0               0  "
      ]
     },
     "execution_count": 3,
     "metadata": {},
     "output_type": "execute_result"
    }
   ],
   "source": [
    "transactions.head()"
   ]
  },
  {
   "cell_type": "markdown",
   "id": "b0d7bb4a",
   "metadata": {},
   "source": [
    "## Clean data"
   ]
  },
  {
   "cell_type": "code",
   "execution_count": 20,
   "id": "c3412e24",
   "metadata": {},
   "outputs": [],
   "source": [
    "# transactions.info(show_counts = True)"
   ]
  },
  {
   "cell_type": "markdown",
   "id": "47a9d631",
   "metadata": {},
   "source": [
    "Data contains no null values"
   ]
  },
  {
   "cell_type": "code",
   "execution_count": 22,
   "id": "328660f3",
   "metadata": {},
   "outputs": [],
   "source": [
    "#transactions.drop_duplicates()"
   ]
  },
  {
   "cell_type": "markdown",
   "id": "c3ec210b",
   "metadata": {},
   "source": [
    "Data contains no duplicates"
   ]
  },
  {
   "cell_type": "markdown",
   "id": "ca70742a",
   "metadata": {},
   "source": [
    "## Summary statistics"
   ]
  },
  {
   "cell_type": "code",
   "execution_count": 11,
   "id": "06ab66db",
   "metadata": {},
   "outputs": [],
   "source": [
    "#suppress scientific notation\n",
    "pd.set_option('display.float_format', lambda x: '%.5f' % x)"
   ]
  },
  {
   "cell_type": "code",
   "execution_count": 14,
   "id": "5728eb78",
   "metadata": {},
   "outputs": [
    {
     "data": {
      "text/plain": [
       "count    6362620.00000\n",
       "mean      179861.90355\n",
       "std       603858.23146\n",
       "min            0.00000\n",
       "25%        13389.57000\n",
       "50%        74871.94000\n",
       "75%       208721.47750\n",
       "max     92445516.64000\n",
       "Name: amount, dtype: float64"
      ]
     },
     "execution_count": 14,
     "metadata": {},
     "output_type": "execute_result"
    }
   ],
   "source": [
    "#get summary statistics of amount column\n",
    "transactions.amount.describe()"
   ]
  },
  {
   "cell_type": "code",
   "execution_count": 23,
   "id": "35ea895a",
   "metadata": {
    "scrolled": true
   },
   "outputs": [
    {
     "data": {
      "text/plain": [
       "array(['PAYMENT', 'TRANSFER', 'CASH_OUT', 'DEBIT', 'CASH_IN'],\n",
       "      dtype=object)"
      ]
     },
     "execution_count": 23,
     "metadata": {},
     "output_type": "execute_result"
    }
   ],
   "source": [
    "transactions.type.unique()"
   ]
  },
  {
   "cell_type": "code",
   "execution_count": 33,
   "id": "9a87a548",
   "metadata": {},
   "outputs": [
    {
     "data": {
      "text/plain": [
       "Index(['step', 'type', 'amount', 'nameOrig', 'oldbalanceOrg', 'newbalanceOrig',\n",
       "       'nameDest', 'oldbalanceDest', 'newbalanceDest', 'isFraud',\n",
       "       'isFlaggedFraud', 'isPayment', 'isMovement'],\n",
       "      dtype='object')"
      ]
     },
     "execution_count": 33,
     "metadata": {},
     "output_type": "execute_result"
    }
   ],
   "source": [
    "transactions.columns"
   ]
  },
  {
   "cell_type": "markdown",
   "id": "dcffc557",
   "metadata": {},
   "source": [
    "## Define columns"
   ]
  },
  {
   "cell_type": "markdown",
   "id": "dffff5a2",
   "metadata": {},
   "source": [
    "Column stating whether a transaction is a payment"
   ]
  },
  {
   "cell_type": "code",
   "execution_count": 30,
   "id": "b2e3c697",
   "metadata": {},
   "outputs": [],
   "source": [
    "transactions[\"isPayment\"] = transactions.type.apply(lambda x: 1 if x == \"PAYMENT\"or x ==\"DEBIT\" else 0)"
   ]
  },
  {
   "cell_type": "markdown",
   "id": "4f6e2194",
   "metadata": {},
   "source": [
    "Column stating whether a transaction is movement of funds"
   ]
  },
  {
   "cell_type": "code",
   "execution_count": 31,
   "id": "b344bc66",
   "metadata": {},
   "outputs": [],
   "source": [
    "transactions[\"isMovement\"] = transactions.type.apply(lambda x: 1 if x == \"TRANSFER\" or x == \"CASH_OUT\" else 0)"
   ]
  },
  {
   "cell_type": "markdown",
   "id": "3cd3d538",
   "metadata": {},
   "source": [
    "Column stating the absolute difference between origin and destination accounts"
   ]
  },
  {
   "cell_type": "code",
   "execution_count": 35,
   "id": "c7b30e7e",
   "metadata": {},
   "outputs": [],
   "source": [
    "transactions[\"accDiff\"] = abs(transactions[\"oldbalanceOrg\"] - transactions[\"oldbalanceDest\"])"
   ]
  },
  {
   "cell_type": "markdown",
   "id": "41a11398",
   "metadata": {},
   "source": [
    "## Define features and labels"
   ]
  },
  {
   "cell_type": "code",
   "execution_count": 38,
   "id": "d2dc8915",
   "metadata": {},
   "outputs": [],
   "source": [
    "features = transactions[[\"amount\",\"isPayment\",\"isMovement\",\"accDiff\"]]"
   ]
  },
  {
   "cell_type": "code",
   "execution_count": 39,
   "id": "f7a2b5c5",
   "metadata": {},
   "outputs": [],
   "source": [
    "label = transactions[\"isFraud\"]"
   ]
  },
  {
   "cell_type": "markdown",
   "id": "5221ccf6",
   "metadata": {},
   "source": [
    "## Split data into training and test sets"
   ]
  },
  {
   "cell_type": "code",
   "execution_count": 40,
   "id": "cae583e9",
   "metadata": {},
   "outputs": [],
   "source": [
    "X_train, X_test, y_train, y_test = train_test_split(features, label, test_size = 0.3)"
   ]
  },
  {
   "cell_type": "markdown",
   "id": "3bcf9ba3",
   "metadata": {},
   "source": [
    "## Normalize the data"
   ]
  },
  {
   "cell_type": "code",
   "execution_count": 44,
   "id": "ca2dc77d",
   "metadata": {},
   "outputs": [],
   "source": [
    "scaler = StandardScaler()\n",
    "X_train = scaler.fit_transform(X_train)\n",
    "X_test = scaler.transform(X_test)"
   ]
  },
  {
   "cell_type": "markdown",
   "id": "f3530ff8",
   "metadata": {},
   "source": [
    "## Fit logistic regression model"
   ]
  },
  {
   "cell_type": "code",
   "execution_count": 45,
   "id": "09d897da",
   "metadata": {},
   "outputs": [
    {
     "data": {
      "text/plain": [
       "LogisticRegression()"
      ]
     },
     "execution_count": 45,
     "metadata": {},
     "output_type": "execute_result"
    }
   ],
   "source": [
    "model = LogisticRegression()\n",
    "model.fit(X_train, y_train)"
   ]
  },
  {
   "cell_type": "markdown",
   "id": "c9a7e240",
   "metadata": {},
   "source": [
    "## Score model"
   ]
  },
  {
   "cell_type": "code",
   "execution_count": 46,
   "id": "377ba938",
   "metadata": {},
   "outputs": [
    {
     "name": "stdout",
     "output_type": "stream",
     "text": [
      "0.9986937097341302\n"
     ]
    }
   ],
   "source": [
    "print(model.score(X_train, y_train))"
   ]
  },
  {
   "cell_type": "markdown",
   "id": "19768378",
   "metadata": {},
   "source": [
    "The model scored 99% on the training data"
   ]
  },
  {
   "cell_type": "code",
   "execution_count": 47,
   "id": "a3ef8e05",
   "metadata": {},
   "outputs": [
    {
     "name": "stdout",
     "output_type": "stream",
     "text": [
      "0.9986944581529831\n"
     ]
    }
   ],
   "source": [
    "print(model.score(X_test, y_test))"
   ]
  },
  {
   "cell_type": "markdown",
   "id": "8b1d9769",
   "metadata": {},
   "source": [
    "The model scored 99% on the test data"
   ]
  },
  {
   "cell_type": "markdown",
   "id": "51162542",
   "metadata": {},
   "source": [
    "## Evaluate model coefficients"
   ]
  },
  {
   "cell_type": "code",
   "execution_count": 51,
   "id": "ed0c46a1",
   "metadata": {},
   "outputs": [
    {
     "name": "stdout",
     "output_type": "stream",
     "text": [
      "[[ 0.21975937 -0.99219857  3.63369013 -0.66699752]]\n"
     ]
    }
   ],
   "source": [
    "print(model.coef_)"
   ]
  },
  {
   "cell_type": "code",
   "execution_count": 52,
   "id": "c1627900",
   "metadata": {},
   "outputs": [
    {
     "data": {
      "text/plain": [
       "Index(['amount', 'isPayment', 'isMovement', 'accDiff'], dtype='object')"
      ]
     },
     "execution_count": 52,
     "metadata": {},
     "output_type": "execute_result"
    }
   ],
   "source": [
    "features.columns"
   ]
  },
  {
   "cell_type": "markdown",
   "id": "2dbaab6e",
   "metadata": {},
   "source": [
    "- isMovement had the largest effect with a coefficient of 3.6\n",
    "- amount had the smallest effect with a coefficient of 0.2"
   ]
  },
  {
   "cell_type": "markdown",
   "id": "51dfb9f4",
   "metadata": {},
   "source": [
    "## Predict with the model"
   ]
  },
  {
   "cell_type": "code",
   "execution_count": 56,
   "id": "ddd2644f",
   "metadata": {},
   "outputs": [],
   "source": [
    "#load sample transactions\n",
    "transaction1 = np.array([123456.78, 0.0, 1.0, 54670.1])\n",
    "transaction2 = np.array([98765.43, 1.0, 0.0, 8524.75])\n",
    "transaction3 = np.array([543678.31, 1.0, 0.0, 510025.5])\n",
    "transaction4 = np.array([11111.11, 0.0, 1.0, 42069.11])"
   ]
  },
  {
   "cell_type": "code",
   "execution_count": 62,
   "id": "710bde87",
   "metadata": {},
   "outputs": [],
   "source": [
    "#condense into one array\n",
    "sample_transactions = np.stack([transaction1, transaction2, transaction3, transaction4])"
   ]
  },
  {
   "cell_type": "markdown",
   "id": "ebab21a9",
   "metadata": {},
   "source": [
    "As the model was trained on scaled feature data, we must also scale the data we're making predictions on."
   ]
  },
  {
   "cell_type": "code",
   "execution_count": 63,
   "id": "3ddc3122",
   "metadata": {},
   "outputs": [],
   "source": [
    "#scale prediction data\n",
    "sample_transactions = scaler.transform(sample_transactions)"
   ]
  },
  {
   "cell_type": "code",
   "execution_count": 64,
   "id": "4265e0e4",
   "metadata": {},
   "outputs": [
    {
     "data": {
      "text/plain": [
       "array([0, 0, 0, 0])"
      ]
     },
     "execution_count": 64,
     "metadata": {},
     "output_type": "execute_result"
    }
   ],
   "source": [
    "#predict values using model\n",
    "model.predict(sample_transactions)"
   ]
  },
  {
   "cell_type": "code",
   "execution_count": 65,
   "id": "e4e7420b",
   "metadata": {},
   "outputs": [
    {
     "data": {
      "text/plain": [
       "array([[9.96828381e-01, 3.17161866e-03],\n",
       "       [9.99999741e-01, 2.58600154e-07],\n",
       "       [9.99999721e-01, 2.79155571e-07],\n",
       "       [9.96946789e-01, 3.05321143e-03]])"
      ]
     },
     "execution_count": 65,
     "metadata": {},
     "output_type": "execute_result"
    }
   ],
   "source": [
    "#view probailities\n",
    "model.predict_proba(sample_transactions)"
   ]
  },
  {
   "cell_type": "markdown",
   "id": "44e4945d",
   "metadata": {},
   "source": [
    "None of the sample transactions were flagged as fraud"
   ]
  }
 ],
 "metadata": {
  "kernelspec": {
   "display_name": "Python 3",
   "language": "python",
   "name": "python3"
  },
  "language_info": {
   "codemirror_mode": {
    "name": "ipython",
    "version": 3
   },
   "file_extension": ".py",
   "mimetype": "text/x-python",
   "name": "python",
   "nbconvert_exporter": "python",
   "pygments_lexer": "ipython3",
   "version": "3.8.8"
  }
 },
 "nbformat": 4,
 "nbformat_minor": 5
}
